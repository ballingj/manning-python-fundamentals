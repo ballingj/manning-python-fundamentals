{
 "cells": [
  {
   "cell_type": "markdown",
   "metadata": {},
   "source": [
    "### Unit 2 Milestone 1:  Creating a Class Using the type() function"
   ]
  },
  {
   "cell_type": "code",
   "execution_count": 4,
   "metadata": {},
   "outputs": [
    {
     "name": "stdout",
     "output_type": "stream",
     "text": [
      "Fastener: $1.95\n"
     ]
    }
   ],
   "source": [
    "# normal way of declaring an object class and method\n",
    "\n",
    "class Price:\n",
    "  def __init__(self, part_number, price):\n",
    "    self.price = price\n",
    "    self.part_number = part_number\n",
    "\n",
    "  def get_price(self):\n",
    "    return self.price\n",
    "\n",
    "# create an instance of Price\n",
    "fastener = Price(\"pn001\", 1.95)\n",
    "fastener_price = fastener.get_price()\n",
    "print(f\"Fastener: ${fastener_price}\")\n"
   ]
  },
  {
   "cell_type": "code",
   "execution_count": 7,
   "metadata": {},
   "outputs": [
    {
     "name": "stdout",
     "output_type": "stream",
     "text": [
      "Bracket: $2.15\n",
      "Price: <__main__.Price object at 0x7fc0140395d0>\n",
      "Price2: <__main__.Price2 object at 0x7fc0142438b0>\n"
     ]
    }
   ],
   "source": [
    "# declare an object using the type() function\n",
    "\n",
    "# 1. create an __init__ function\n",
    "def function__init__(self, part_number, price):\n",
    "  self.part_number = part_number\n",
    "  self.price = price\n",
    "\n",
    "# 2. create a object method function \n",
    "def function_get_price(self):\n",
    "  return self.price\n",
    "\n",
    "# 3. create a namespace object with key and value of the 1 & 2 function \n",
    "namespace = {\"__init__\": function__init__, \"get_price\": function_get_price}\n",
    "\n",
    "# 4 create the Price2 class using the type() function\n",
    "Price2 = type(\"Price2\", (), namespace)\n",
    "\n",
    "bracket = Price2(\"br001\", 2.15)\n",
    "bracket_price = bracket.get_price()\n",
    "print(f\"Bracket: ${bracket_price}\")\n",
    "\n",
    "# no difference in object class\n",
    "print(f\"Price: {fastener}\")\n",
    "print(f\"Price2: {bracket}\")\n"
   ]
  }
 ],
 "metadata": {
  "kernelspec": {
   "display_name": "Python 3",
   "language": "python",
   "name": "python3"
  },
  "language_info": {
   "codemirror_mode": {
    "name": "ipython",
    "version": 3
   },
   "file_extension": ".py",
   "mimetype": "text/x-python",
   "name": "python",
   "nbconvert_exporter": "python",
   "pygments_lexer": "ipython3",
   "version": "3.10.6"
  }
 },
 "nbformat": 4,
 "nbformat_minor": 2
}
