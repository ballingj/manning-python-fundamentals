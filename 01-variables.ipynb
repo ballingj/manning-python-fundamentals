{
 "cells": [
  {
   "cell_type": "markdown",
   "metadata": {},
   "source": [
    "### Variables"
   ]
  },
  {
   "cell_type": "code",
   "execution_count": 1,
   "metadata": {},
   "outputs": [
    {
     "name": "stdout",
     "output_type": "stream",
     "text": [
      "[1, 9, 3] [1, 9, 3]\n",
      "1 2\n"
     ]
    }
   ],
   "source": [
    "# copying variable containing a list will copy the memory location\n",
    "# so any changes to the copied variable will change the original variable\n",
    "a = [1, 2, 3]\n",
    "b = a\n",
    "b[1] = 9\n",
    "print(a, b)\n",
    "\n",
    "# [1, 9, 3] [1, 9, 3]\n",
    "\n",
    "# with int, it behaves differently; the original variable will be unchanged\n",
    "a = 1\n",
    "b = a\n",
    "b = 2\n",
    "\n",
    "print(a, b)\n",
    "# 1 2"
   ]
  },
  {
   "cell_type": "code",
   "execution_count": 5,
   "metadata": {},
   "outputs": [
    {
     "name": "stdout",
     "output_type": "stream",
     "text": [
      "2.9\n",
      "3.1\n"
     ]
    }
   ],
   "source": [
    "# float : preserves original value\n",
    "c = 2.9\n",
    "d = c\n",
    "d = 3.1\n",
    "\n",
    "print(c)\n",
    "print(d)"
   ]
  },
  {
   "cell_type": "code",
   "execution_count": 6,
   "metadata": {},
   "outputs": [
    {
     "name": "stdout",
     "output_type": "stream",
     "text": [
      "Hello\n",
      "Howdy\n"
     ]
    }
   ],
   "source": [
    "# str : : preserves original value\n",
    "str1 = \"Hello\"\n",
    "str2 = str1\n",
    "str2 = \"Howdy\"\n",
    "\n",
    "print(str1)\n",
    "print(str2)"
   ]
  },
  {
   "cell_type": "code",
   "execution_count": 8,
   "metadata": {},
   "outputs": [
    {
     "name": "stdout",
     "output_type": "stream",
     "text": [
      "[5, 2, 3, 4]\n",
      "[5, 2, 3, 4]\n"
     ]
    }
   ],
   "source": [
    "# list\n",
    "list1 = [1 , 2, 3, 4]\n",
    "list2 = list1\n",
    "# list2 = [5, 6, 7, 8]  # preserves original value of list1\n",
    "list2[0] = 5  # does not preserve the original value of list1\n",
    "\n",
    "print(list1)\n",
    "print(list2)"
   ]
  },
  {
   "cell_type": "code",
   "execution_count": 11,
   "metadata": {},
   "outputs": [
    {
     "name": "stdout",
     "output_type": "stream",
     "text": [
      "(1, 2, 3, 4)\n",
      "(5, 6, 7, 8)\n"
     ]
    }
   ],
   "source": [
    "# tuple\n",
    "tup1 = (1,2,3,4)\n",
    "tup2 = tup1\n",
    "tup2 = (5,6,7,8)  # preserves original value of tup1\n",
    "# tup2[0] = 9     # you can't do this: does not work bec tuple is immutable\n",
    "\n",
    "print(tup1)\n",
    "print(tup2)"
   ]
  },
  {
   "cell_type": "code",
   "execution_count": 13,
   "metadata": {},
   "outputs": [
    {
     "name": "stdout",
     "output_type": "stream",
     "text": [
      "{'one': 1, 'two': 2, 'three': 3, 'four': 4}\n",
      "{'one': 1, 'two': 2, 'three': 3, 'four': 4}\n"
     ]
    }
   ],
   "source": [
    "# dict\n",
    "dict1 = {'one': 1, 'two': 2, 'three': 3}\n",
    "dict2 = dict1\n",
    "# dict2 = {'four': 4, 'five': 5} # preserves value of dict1\n",
    "dict2[\"four\"] = 4   # does not preserver value of dict1 - changes both\n",
    "\n",
    "print(dict1)\n",
    "print(dict2)"
   ]
  },
  {
   "cell_type": "code",
   "execution_count": 4,
   "metadata": {},
   "outputs": [
    {
     "name": "stdout",
     "output_type": "stream",
     "text": [
      "139754442097664\n",
      "139754442103808\n",
      "139754442101824\n",
      "139754442101824\n"
     ]
    }
   ],
   "source": [
    "# binding of variable changes\n",
    "a = [\"milk\", \"eggs\"]\n",
    "print(id(a))\n",
    "a = [\"milk\", \"eggs\", \"bread\"]\n",
    "print(id(a))\n",
    "\n",
    "# binding remains the same\n",
    "a = [\"milk\", \"eggs\"]\n",
    "print(id(a))\n",
    "a.append(\"bread\")\n",
    "print(id(a))"
   ]
  }
 ],
 "metadata": {
  "kernelspec": {
   "display_name": "Python 3",
   "language": "python",
   "name": "python3"
  },
  "language_info": {
   "codemirror_mode": {
    "name": "ipython",
    "version": 3
   },
   "file_extension": ".py",
   "mimetype": "text/x-python",
   "name": "python",
   "nbconvert_exporter": "python",
   "pygments_lexer": "ipython3",
   "version": "3.10.6"
  }
 },
 "nbformat": 4,
 "nbformat_minor": 2
}
