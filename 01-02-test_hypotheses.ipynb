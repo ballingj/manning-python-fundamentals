{
 "cells": [
  {
   "cell_type": "markdown",
   "metadata": {
    "slideshow": {
     "slide_type": "slide"
    }
   },
   "source": [
    "## Unit 1, Milestone 1 solution"
   ]
  },
  {
   "cell_type": "code",
   "execution_count": 4,
   "metadata": {
    "slideshow": {
     "slide_type": "slide"
    }
   },
   "outputs": [
    {
     "name": "stdout",
     "output_type": "stream",
     "text": [
      "value of a: 1\n",
      "value of b: 2\n",
      "id of a: 140401526178032\n",
      "id of b: 140401526178064\n"
     ]
    }
   ],
   "source": [
    "# varibles with an int (immuttable)\n",
    "\n",
    "a = 1\n",
    "b = a\n",
    "b = 2\n",
    "\n",
    "print(f\"value of a: {a}\")\n",
    "print(f\"value of b: {b}\")\n",
    "# id()\n",
    "print(f\"id of a: {id(a)}\")\n",
    "print(f\"id of b: {id(b)}\")"
   ]
  },
  {
   "cell_type": "code",
   "execution_count": 5,
   "metadata": {
    "slideshow": {
     "slide_type": "slide"
    }
   },
   "outputs": [
    {
     "name": "stdout",
     "output_type": "stream",
     "text": [
      "value of a: 0.5\n",
      "value of b: 9.5\n",
      "id of a: 140401478362096\n",
      "id of b: 140401478827152\n"
     ]
    }
   ],
   "source": [
    "# varibles with a float (immuttable)\n",
    "\n",
    "a = 0.5\n",
    "b = a\n",
    "b = 9.5\n",
    "\n",
    "print(f\"value of a: {a}\")\n",
    "print(f\"value of b: {b}\")\n",
    "\n",
    "# id()\n",
    "print(f\"id of a: {id(a)}\")\n",
    "print(f\"id of b: {id(b)}\")"
   ]
  },
  {
   "cell_type": "code",
   "execution_count": 6,
   "metadata": {
    "slideshow": {
     "slide_type": "slide"
    }
   },
   "outputs": [
    {
     "name": "stdout",
     "output_type": "stream",
     "text": [
      "value of a: one\n",
      "value of b: two\n",
      "id of a: 140401408550704\n",
      "id of b: 140401408553008\n"
     ]
    }
   ],
   "source": [
    "# varibles with a string (immuttable)\n",
    "\n",
    "a = \"one\"\n",
    "b = a\n",
    "b = \"two\"\n",
    "\n",
    "print(f\"value of a: {a}\")\n",
    "print(f\"value of b: {b}\")\n",
    "\n",
    "# id()\n",
    "print(f\"id of a: {id(a)}\")\n",
    "print(f\"id of b: {id(b)}\")"
   ]
  },
  {
   "cell_type": "code",
   "execution_count": 9,
   "metadata": {
    "slideshow": {
     "slide_type": "slide"
    }
   },
   "outputs": [
    {
     "ename": "TypeError",
     "evalue": "'tuple' object does not support item assignment",
     "output_type": "error",
     "traceback": [
      "\u001b[0;31m---------------------------------------------------------------------------\u001b[0m",
      "\u001b[0;31mTypeError\u001b[0m                                 Traceback (most recent call last)",
      "\u001b[1;32m/home/jeff/python_dev/manning_python_fundamentals/02-test_hypotheses.ipynb Cell 5\u001b[0m line \u001b[0;36m<cell line: 6>\u001b[0;34m()\u001b[0m\n\u001b[1;32m      <a href='vscode-notebook-cell://wsl%2Bubuntu-22.04/home/jeff/python_dev/manning_python_fundamentals/02-test_hypotheses.ipynb#W5sdnNjb2RlLXJlbW90ZQ%3D%3D?line=3'>4</a>\u001b[0m b \u001b[39m=\u001b[39m a\n\u001b[1;32m      <a href='vscode-notebook-cell://wsl%2Bubuntu-22.04/home/jeff/python_dev/manning_python_fundamentals/02-test_hypotheses.ipynb#W5sdnNjb2RlLXJlbW90ZQ%3D%3D?line=4'>5</a>\u001b[0m \u001b[39m# this will raise a TypeError, since tuples are immuttable and elements can't be changed\u001b[39;00m\n\u001b[0;32m----> <a href='vscode-notebook-cell://wsl%2Bubuntu-22.04/home/jeff/python_dev/manning_python_fundamentals/02-test_hypotheses.ipynb#W5sdnNjb2RlLXJlbW90ZQ%3D%3D?line=5'>6</a>\u001b[0m b[\u001b[39m1\u001b[39m] \u001b[39m=\u001b[39m \u001b[39m9\u001b[39m\n\u001b[1;32m      <a href='vscode-notebook-cell://wsl%2Bubuntu-22.04/home/jeff/python_dev/manning_python_fundamentals/02-test_hypotheses.ipynb#W5sdnNjb2RlLXJlbW90ZQ%3D%3D?line=7'>8</a>\u001b[0m \u001b[39mprint\u001b[39m(\u001b[39mf\u001b[39m\u001b[39m\"\u001b[39m\u001b[39mvalue of a: \u001b[39m\u001b[39m{\u001b[39;00ma\u001b[39m}\u001b[39;00m\u001b[39m\"\u001b[39m)\n\u001b[1;32m      <a href='vscode-notebook-cell://wsl%2Bubuntu-22.04/home/jeff/python_dev/manning_python_fundamentals/02-test_hypotheses.ipynb#W5sdnNjb2RlLXJlbW90ZQ%3D%3D?line=8'>9</a>\u001b[0m \u001b[39mprint\u001b[39m(\u001b[39mf\u001b[39m\u001b[39m\"\u001b[39m\u001b[39mvalue of b: \u001b[39m\u001b[39m{\u001b[39;00mb\u001b[39m}\u001b[39;00m\u001b[39m\"\u001b[39m)\n",
      "\u001b[0;31mTypeError\u001b[0m: 'tuple' object does not support item assignment"
     ]
    }
   ],
   "source": [
    "# varibles with a tuple (immuttable)\n",
    "\n",
    "a = (1, 2, 3)\n",
    "b = a\n",
    "# this will raise a TypeError, since tuples are immuttable and elements can't be changed\n",
    "b[1] = 9\n",
    "\n",
    "print(f\"value of a: {a}\")\n",
    "print(f\"value of b: {b}\")\n",
    "\n",
    "# id()\n",
    "print(f\"id of a: {id(a)}\")\n",
    "print(f\"id of b: {id(b)}\")"
   ]
  },
  {
   "cell_type": "code",
   "execution_count": 10,
   "metadata": {
    "slideshow": {
     "slide_type": "slide"
    }
   },
   "outputs": [
    {
     "name": "stdout",
     "output_type": "stream",
     "text": [
      "value of a: (1, 2, 3)\n",
      "value of b: (4, 5, 6)\n",
      "id of a: 140401044387136\n",
      "id of b: 140401408565376\n"
     ]
    }
   ],
   "source": [
    "# varibles with a tuple (immuttable)\n",
    "\n",
    "a = (1, 2, 3)\n",
    "b = a\n",
    "b = (4, 5, 6)\n",
    "\n",
    "print(f\"value of a: {a}\")\n",
    "print(f\"value of b: {b}\")\n",
    "\n",
    "# id()\n",
    "print(f\"id of a: {id(a)}\")\n",
    "print(f\"id of b: {id(b)}\")"
   ]
  },
  {
   "cell_type": "code",
   "execution_count": 11,
   "metadata": {
    "slideshow": {
     "slide_type": "slide"
    }
   },
   "outputs": [
    {
     "name": "stdout",
     "output_type": "stream",
     "text": [
      "value of a: [1, 9, 3]\n",
      "value of b: [1, 9, 3]\n",
      "id of a: 140401043814336\n",
      "id of b: 140401043814336\n"
     ]
    }
   ],
   "source": [
    "# varibles with a list (muttable)\n",
    "a = [1, 2, 3]\n",
    "b = a\n",
    "b[1] = 9\n",
    "\n",
    "print(f\"value of a: {a}\")\n",
    "print(f\"value of b: {b}\")\n",
    "\n",
    "# id()\n",
    "print(f\"id of a: {id(a)}\")\n",
    "print(f\"id of b: {id(b)}\")"
   ]
  },
  {
   "cell_type": "code",
   "execution_count": 12,
   "metadata": {
    "slideshow": {
     "slide_type": "slide"
    }
   },
   "outputs": [
    {
     "name": "stdout",
     "output_type": "stream",
     "text": [
      "value of a: [1, 2, 3]\n",
      "value of b: [4, 5, 6]\n",
      "id of a: 140401044171648\n",
      "id of b: 140401044374720\n"
     ]
    }
   ],
   "source": [
    "# varibles with a list (muttable)\n",
    "a = [1, 2, 3]\n",
    "b = a\n",
    "b = [4, 5, 6]\n",
    "\n",
    "print(f\"value of a: {a}\")\n",
    "print(f\"value of b: {b}\")\n",
    "\n",
    "# id()\n",
    "print(f\"id of a: {id(a)}\")\n",
    "print(f\"id of b: {id(b)}\")"
   ]
  },
  {
   "cell_type": "code",
   "execution_count": 13,
   "metadata": {
    "slideshow": {
     "slide_type": "slide"
    }
   },
   "outputs": [
    {
     "name": "stdout",
     "output_type": "stream",
     "text": [
      "value of a: {'one': 1, 'two': 9, 'three': 3}\n",
      "value of b: {'one': 1, 'two': 9, 'three': 3}\n",
      "id of a: 140401043876224\n",
      "id of b: 140401043876224\n"
     ]
    }
   ],
   "source": [
    "# varibles with a dictionary (muttable)\n",
    "\n",
    "a = {\"one\":1, \"two\":2, \"three\":3}\n",
    "b = a\n",
    "b[\"two\"] = 9\n",
    "\n",
    "print(f\"value of a: {a}\")\n",
    "print(f\"value of b: {b}\")\n",
    "\n",
    "# id()\n",
    "print(f\"id of a: {id(a)}\")\n",
    "print(f\"id of b: {id(b)}\")"
   ]
  },
  {
   "cell_type": "code",
   "execution_count": 14,
   "metadata": {
    "slideshow": {
     "slide_type": "slide"
    }
   },
   "outputs": [
    {
     "name": "stdout",
     "output_type": "stream",
     "text": [
      "value of a: {'one': 1, 'two': 2, 'three': 3}\n",
      "value of b: {'one': 100, 'two': 200, 'four': 400}\n",
      "id of a: 140401043809664\n",
      "id of b: 140401043809856\n"
     ]
    }
   ],
   "source": [
    "# varibles with a dictionary (muttable)\n",
    "\n",
    "a = {\"one\":1, \"two\":2, \"three\":3}\n",
    "b = a\n",
    "b = {\"one\": 100, \"two\":200, \"four\":400}\n",
    "\n",
    "print(f\"value of a: {a}\")\n",
    "print(f\"value of b: {b}\")\n",
    "\n",
    "# id()\n",
    "print(f\"id of a: {id(a)}\")\n",
    "print(f\"id of b: {id(b)}\")"
   ]
  },
  {
   "cell_type": "markdown",
   "metadata": {},
   "source": [
    "### Note\n",
    "> Immutable variables contain objects that can not be changed.  If the variable value is being changed, i.e from a = 1 to a = 2,  then the variable 'a' will just contain a different object that now points to the new object.  \n",
    "- immutable objects are int, float, str, tuple.\n",
    "- immutable variables act like containers\n",
    "- we would expect immutable variables to contain its own data, and changes to that data would not affect any others\n",
    "\n",
    "> Mutable variables are objects that can be changed.  \n",
    "- mutable variables are list and dictionary\n",
    "- mutable variable act like labels\n",
    "- we expect mutable variables to act like labels, where more than one variable might refer to the same object. \n",
    "- "
   ]
  }
 ],
 "metadata": {
  "celltoolbar": "Slideshow",
  "kernelspec": {
   "display_name": "Python 3 (ipykernel)",
   "language": "python",
   "name": "python3"
  },
  "language_info": {
   "codemirror_mode": {
    "name": "ipython",
    "version": 3
   },
   "file_extension": ".py",
   "mimetype": "text/x-python",
   "name": "python",
   "nbconvert_exporter": "python",
   "pygments_lexer": "ipython3",
   "version": "3.10.6"
  },
  "livereveal": {
   "scroll": true,
   "start_slideshow_at": "selected",
   "transition": "none"
  },
  "toc": {
   "base_numbering": 1,
   "nav_menu": {},
   "number_sections": false,
   "sideBar": true,
   "skip_h1_title": false,
   "title_cell": "Table of Contents",
   "title_sidebar": "Contents",
   "toc_cell": false,
   "toc_position": {},
   "toc_section_display": true,
   "toc_window_display": false
  }
 },
 "nbformat": 4,
 "nbformat_minor": 2
}
