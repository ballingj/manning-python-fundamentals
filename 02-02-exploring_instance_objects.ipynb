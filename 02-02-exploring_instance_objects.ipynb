{
 "cells": [
  {
   "cell_type": "markdown",
   "metadata": {},
   "source": [
    "### Unit 2 Milestone 2:  Exploring Objects and Instance Methods"
   ]
  },
  {
   "cell_type": "code",
   "execution_count": 5,
   "metadata": {},
   "outputs": [],
   "source": [
    "class Price:\n",
    "  def __init__(self, part_number, price):\n",
    "    self.price = price\n",
    "    self.part_number = part_number\n",
    "\n",
    "  def get_price(self):\n",
    "    return self.price\n"
   ]
  },
  {
   "cell_type": "code",
   "execution_count": 7,
   "metadata": {},
   "outputs": [
    {
     "name": "stdout",
     "output_type": "stream",
     "text": [
      "# class output\n",
      "  dir()  class: ['__class__', '__delattr__', '__dict__', '__dir__', '__doc__', '__eq__', '__format__', '__ge__', '__getattribute__', '__gt__', '__hash__', '__init__', '__init_subclass__', '__le__', '__lt__', '__module__', '__ne__', '__new__', '__reduce__', '__reduce_ex__', '__repr__', '__setattr__', '__sizeof__', '__str__', '__subclasshook__', '__weakref__', 'get_price']\n",
      "__dict__ class: {'__module__': '__main__', '__init__': <function Price.__init__ at 0x10765f700>, 'get_price': <function Price.get_price at 0x10765fa60>, '__dict__': <attribute '__dict__' of 'Price' objects>, '__weakref__': <attribute '__weakref__' of 'Price' objects>, '__doc__': None}\n",
      "# instance output\n",
      "  dir()  instance: ['__class__', '__delattr__', '__dict__', '__dir__', '__doc__', '__eq__', '__format__', '__ge__', '__getattribute__', '__gt__', '__hash__', '__init__', '__init_subclass__', '__le__', '__lt__', '__module__', '__ne__', '__new__', '__reduce__', '__reduce_ex__', '__repr__', '__setattr__', '__sizeof__', '__str__', '__subclasshook__', '__weakref__', 'get_price', 'part_number', 'price']\n",
      "__dict__ instance: {'price': 19.95, 'part_number': 'item001'}\n"
     ]
    }
   ],
   "source": [
    "item_price = Price(\"item001\", 19.95)\n",
    "\n",
    "print(\"# class output\")\n",
    "print(f\"  dir()  class: {dir(Price)}\")\n",
    "print(f\"__dict__ class: {Price.__dict__}\")\n",
    "\n",
    "print(\"# instance output\")\n",
    "print(f\"  dir()  instance: {dir(item_price)}\")\n",
    "print(f\"__dict__ instance: {item_price.__dict__}\")\n"
   ]
  },
  {
   "cell_type": "code",
   "execution_count": 11,
   "metadata": {},
   "outputs": [],
   "source": [
    "def set_discount(item_price, percent_off):\n",
    "    item_price.percent_off = percent_off\n",
    "\n",
    "def get_discount_price(item_price):\n",
    "    return item_price.price - item_price.price * item_price.percent_off\n",
    "\n",
    "Price.set_discount = set_discount\n",
    "Price.get_discount_price = get_discount_price\n"
   ]
  },
  {
   "cell_type": "code",
   "execution_count": 12,
   "metadata": {},
   "outputs": [
    {
     "name": "stdout",
     "output_type": "stream",
     "text": [
      "17.955\n"
     ]
    }
   ],
   "source": [
    "item_price.set_discount(.10)\n",
    "print(item_price.get_discount_price())"
   ]
  }
 ],
 "metadata": {
  "kernelspec": {
   "display_name": "Python 3",
   "language": "python",
   "name": "python3"
  },
  "language_info": {
   "codemirror_mode": {
    "name": "ipython",
    "version": 3
   },
   "file_extension": ".py",
   "mimetype": "text/x-python",
   "name": "python",
   "nbconvert_exporter": "python",
   "pygments_lexer": "ipython3",
   "version": "3.9.6"
  }
 },
 "nbformat": 4,
 "nbformat_minor": 2
}
