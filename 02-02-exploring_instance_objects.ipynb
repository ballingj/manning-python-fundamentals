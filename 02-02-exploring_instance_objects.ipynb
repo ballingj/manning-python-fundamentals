{
 "cells": [
  {
   "cell_type": "markdown",
   "metadata": {},
   "source": [
    "### Unit 2 Milestone 2:  Exploring Objects and Instance Methods"
   ]
  },
  {
   "cell_type": "code",
   "execution_count": 4,
   "metadata": {},
   "outputs": [],
   "source": [
    "class Price:\n",
    "  def __init__(self, part_number, price):\n",
    "    self.price = price\n",
    "    self.part_number = part_number\n",
    "\n",
    "  def get_price(self):\n",
    "    return self.price\n"
   ]
  },
  {
   "cell_type": "code",
   "execution_count": 8,
   "metadata": {},
   "outputs": [
    {
     "name": "stdout",
     "output_type": "stream",
     "text": [
      "# class output\n",
      "  dir()  class: ['__class__', '__delattr__', '__dict__', '__dir__', '__doc__', '__eq__', '__format__', '__ge__', '__getattribute__', '__gt__', '__hash__', '__init__', '__init_subclass__', '__le__', '__lt__', '__module__', '__ne__', '__new__', '__reduce__', '__reduce_ex__', '__repr__', '__setattr__', '__sizeof__', '__str__', '__subclasshook__', '__weakref__', 'get_price']\n",
      "__dict__ class: {'__module__': '__main__', '__init__': <function Price.__init__ at 0x7f91fc47a200>, 'get_price': <function Price.get_price at 0x7f91fc47a290>, '__dict__': <attribute '__dict__' of 'Price' objects>, '__weakref__': <attribute '__weakref__' of 'Price' objects>, '__doc__': None}\n",
      "# instance output\n",
      "  dir()  instance: ['__class__', '__delattr__', '__dict__', '__dir__', '__doc__', '__eq__', '__format__', '__ge__', '__getattribute__', '__gt__', '__hash__', '__init__', '__init_subclass__', '__le__', '__lt__', '__module__', '__ne__', '__new__', '__reduce__', '__reduce_ex__', '__repr__', '__setattr__', '__sizeof__', '__str__', '__subclasshook__', '__weakref__', 'get_price', 'part_number', 'price']\n",
      "__dict__ instance: {'price': 19.95, 'part_number': 'item001'}\n"
     ]
    }
   ],
   "source": [
    "print(\"# class output\")\n",
    "print(f\"  dir()  class: {dir(Price)}\")\n",
    "print(f\"__dict__ class: {Price.__dict__}\")\n",
    "\n",
    "item_price = Price(\"item001\", 19.95)\n",
    "print(\"# instance output\")\n",
    "print(f\"  dir()  instance: {dir(item_price)}\")\n",
    "print(f\"__dict__ instance: {item_price.__dict__}\")"
   ]
  },
  {
   "cell_type": "code",
   "execution_count": 7,
   "metadata": {},
   "outputs": [
    {
     "name": "stdout",
     "output_type": "stream",
     "text": [
      "Bracket: $2.15\n",
      "Price: <__main__.Price object at 0x7fc0140395d0>\n",
      "Price2: <__main__.Price2 object at 0x7fc0142438b0>\n"
     ]
    }
   ],
   "source": [
    "def function__init__(self, part_number, price):\n",
    "  self.part_number = part_number\n",
    "  self.price = price\n",
    "\n",
    "def function_get_price(self):\n",
    "  return self.price\n",
    "\n",
    "namespace = {\"__init__\": function__init__, \"get_price\": function_get_price}\n",
    "\n",
    "Price2 = type(\"Price2\", (), namespace)\n",
    "\n",
    "bracket = Price2(\"br001\", 2.15)\n",
    "bracket_price = bracket.get_price()\n",
    "print(f\"Bracket: ${bracket_price}\")\n",
    "\n",
    "# no difference in object class\n",
    "print(f\"Price: {fastener}\")\n",
    "print(f\"Price2: {bracket}\")\n"
   ]
  }
 ],
 "metadata": {
  "kernelspec": {
   "display_name": "Python 3",
   "language": "python",
   "name": "python3"
  },
  "language_info": {
   "codemirror_mode": {
    "name": "ipython",
    "version": 3
   },
   "file_extension": ".py",
   "mimetype": "text/x-python",
   "name": "python",
   "nbconvert_exporter": "python",
   "pygments_lexer": "ipython3",
   "version": "3.10.6"
  }
 },
 "nbformat": 4,
 "nbformat_minor": 2
}
