{
 "cells": [
  {
   "cell_type": "markdown",
   "metadata": {
    "slideshow": {
     "slide_type": "slide"
    }
   },
   "source": [
    "## Uni 1 Milestone 2 solution"
   ]
  },
  {
   "cell_type": "code",
   "execution_count": null,
   "metadata": {
    "slideshow": {
     "slide_type": "slide"
    }
   },
   "outputs": [],
   "source": [
    "#varibles with an int (immuttable)\n",
    "\n",
    "a = 1\n",
    "b = a\n",
    "b = 2\n",
    "\n",
    "print(f\"id(a):{id(a)}  value of a: {a}\")\n",
    "print(f\"id(b):{id(b)}  value of b: {b}\")"
   ]
  },
  {
   "cell_type": "code",
   "execution_count": null,
   "metadata": {
    "slideshow": {
     "slide_type": "slide"
    }
   },
   "outputs": [],
   "source": [
    "#varibles with a float (immuttable)\n",
    "\n",
    "a = 0.5\n",
    "b = a\n",
    "b = 9.5\n",
    "\n",
    "print(f\"id(a):{id(a)}  value of a: {a}\")\n",
    "print(f\"id(b):{id(b)}  value of b: {b}\")"
   ]
  },
  {
   "cell_type": "code",
   "execution_count": null,
   "metadata": {
    "slideshow": {
     "slide_type": "slide"
    }
   },
   "outputs": [],
   "source": [
    "#varibles with a string (immuttable)\n",
    "\n",
    "a = \"one\"\n",
    "b = a\n",
    "b = \"two\"\n",
    "\n",
    "print(f\"id(a):{id(a)}  value of a: {a}\")\n",
    "print(f\"id(b):{id(b)}  value of b: {b}\")"
   ]
  },
  {
   "cell_type": "code",
   "execution_count": null,
   "metadata": {
    "slideshow": {
     "slide_type": "slide"
    }
   },
   "outputs": [],
   "source": [
    "# varibles with a tuple (immuttable)\n",
    "\n",
    "a = (1, 2, 3)\n",
    "b = a\n",
    "b = (4, 5, 6)\n",
    "\n",
    "print(f\"id(a):{id(a)}  value of a: {a}\")\n",
    "print(f\"id(b):{id(b)}  value of b: {b}\")"
   ]
  },
  {
   "cell_type": "code",
   "execution_count": null,
   "metadata": {
    "slideshow": {
     "slide_type": "slide"
    }
   },
   "outputs": [],
   "source": [
    "# varibles with a list (muttable)\n",
    "a = [1, 2, 3]\n",
    "b = a\n",
    "b[1] = 9\n",
    "\n",
    "print(f\"id(a):{id(a)}  value of a: {a}\")\n",
    "print(f\"id(b):{id(b)}  value of b: {b}\")"
   ]
  },
  {
   "cell_type": "code",
   "execution_count": null,
   "metadata": {
    "slideshow": {
     "slide_type": "slide"
    }
   },
   "outputs": [],
   "source": [
    "# varibles with a list (muttable)\n",
    "a = [1, 2, 3]\n",
    "b = a\n",
    "b = [4, 5, 6]\n",
    "\n",
    "print(f\"id(a):{id(a)}  value of a: {a}\")\n",
    "print(f\"id(b):{id(b)}  value of b: {b}\")"
   ]
  },
  {
   "cell_type": "code",
   "execution_count": null,
   "metadata": {
    "slideshow": {
     "slide_type": "slide"
    }
   },
   "outputs": [],
   "source": [
    "#varibles with a dictionary (muttable)\n",
    "\n",
    "a = {\"one\":1, \"two\":2, \"three\":3}\n",
    "b = a\n",
    "b[\"two\"] = 9\n",
    "\n",
    "print(f\"id(a):{id(a)}  value of a: {a}\")\n",
    "print(f\"id(b):{id(b)}  value of b: {b}\")"
   ]
  },
  {
   "cell_type": "code",
   "execution_count": null,
   "metadata": {
    "slideshow": {
     "slide_type": "slide"
    }
   },
   "outputs": [],
   "source": [
    "#varibles with a dictionary (muttable)\n",
    "\n",
    "a = {\"one\":1, \"two\":2, \"three\":3}\n",
    "b = a\n",
    "b = {\"one\": 100, \"two\":200, \"four\":400}\n",
    "\n",
    "print(f\"id(a):{id(a)}  value of a: {a}\")\n",
    "print(f\"id(b):{id(b)}  value of b: {b}\")"
   ]
  },
  {
   "cell_type": "code",
   "execution_count": null,
   "metadata": {
    "slideshow": {
     "slide_type": "skip"
    }
   },
   "outputs": [],
   "source": [
    "\"\"\"From these examples we can see that when we set `b` equal to `a` we are just creating \n",
    "   a second label that points to the same object. With immuttable objects - int, float, \n",
    "   string, and tuple - when we change the value that `b` refers to we make it point to \n",
    "   a different object, but when we change elements inside of a muttable object, both `a` \n",
    "   and `b` are still referring to the same object, and the change is reflected in both \n",
    "   varibles.\n",
    "\"\"\""
   ]
  }
 ],
 "metadata": {
  "celltoolbar": "Slideshow",
  "kernelspec": {
   "display_name": "Python 3 (ipykernel)",
   "language": "python",
   "name": "python3"
  },
  "language_info": {
   "codemirror_mode": {
    "name": "ipython",
    "version": 3
   },
   "file_extension": ".py",
   "mimetype": "text/x-python",
   "name": "python",
   "nbconvert_exporter": "python",
   "pygments_lexer": "ipython3",
   "version": "3.8.12"
  },
  "livereveal": {
   "scroll": true,
   "start_slideshow_at": "selected",
   "transition": "none"
  },
  "toc": {
   "base_numbering": 1,
   "nav_menu": {},
   "number_sections": false,
   "sideBar": true,
   "skip_h1_title": false,
   "title_cell": "Table of Contents",
   "title_sidebar": "Contents",
   "toc_cell": false,
   "toc_position": {},
   "toc_section_display": true,
   "toc_window_display": false
  }
 },
 "nbformat": 4,
 "nbformat_minor": 2
}
