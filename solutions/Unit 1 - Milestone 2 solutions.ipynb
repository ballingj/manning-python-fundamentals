{
 "cells": [
  {
   "cell_type": "markdown",
   "metadata": {
    "slideshow": {
     "slide_type": "slide"
    }
   },
   "source": [
    "## Uni 1 Milestone 2 solution"
   ]
  },
  {
   "cell_type": "code",
   "execution_count": 1,
   "metadata": {
    "slideshow": {
     "slide_type": "slide"
    }
   },
   "outputs": [
    {
     "name": "stdout",
     "output_type": "stream",
     "text": [
      "id(a):140151621255408  value of a: 1\n",
      "id(b):140151621255440  value of b: 2\n"
     ]
    }
   ],
   "source": [
    "#varibles with an int (immuttable)\n",
    "\n",
    "a = 1\n",
    "b = a\n",
    "b = 2\n",
    "\n",
    "print(f\"id(a):{id(a)}  value of a: {a}\")\n",
    "print(f\"id(b):{id(b)}  value of b: {b}\")"
   ]
  },
  {
   "cell_type": "code",
   "execution_count": 2,
   "metadata": {
    "slideshow": {
     "slide_type": "slide"
    }
   },
   "outputs": [
    {
     "name": "stdout",
     "output_type": "stream",
     "text": [
      "id(a):140151573904496  value of a: 0.5\n",
      "id(b):140151573902160  value of b: 9.5\n"
     ]
    }
   ],
   "source": [
    "#varibles with a float (immuttable)\n",
    "\n",
    "a = 0.5\n",
    "b = a\n",
    "b = 9.5\n",
    "\n",
    "print(f\"id(a):{id(a)}  value of a: {a}\")\n",
    "print(f\"id(b):{id(b)}  value of b: {b}\")"
   ]
  },
  {
   "cell_type": "code",
   "execution_count": 3,
   "metadata": {
    "slideshow": {
     "slide_type": "slide"
    }
   },
   "outputs": [
    {
     "name": "stdout",
     "output_type": "stream",
     "text": [
      "id(a):140151495222704  value of a: one\n",
      "id(b):140151495222960  value of b: two\n"
     ]
    }
   ],
   "source": [
    "#varibles with a string (immuttable)\n",
    "\n",
    "a = \"one\"\n",
    "b = a\n",
    "b = \"two\"\n",
    "\n",
    "print(f\"id(a):{id(a)}  value of a: {a}\")\n",
    "print(f\"id(b):{id(b)}  value of b: {b}\")"
   ]
  },
  {
   "cell_type": "code",
   "execution_count": 4,
   "metadata": {
    "slideshow": {
     "slide_type": "slide"
    }
   },
   "outputs": [
    {
     "name": "stdout",
     "output_type": "stream",
     "text": [
      "id(a):140151495219200  value of a: (1, 2, 3)\n",
      "id(b):140151495222272  value of b: (4, 5, 6)\n"
     ]
    }
   ],
   "source": [
    "# varibles with a tuple (immuttable)\n",
    "\n",
    "a = (1, 2, 3)\n",
    "b = a\n",
    "b = (4, 5, 6)\n",
    "\n",
    "print(f\"id(a):{id(a)}  value of a: {a}\")\n",
    "print(f\"id(b):{id(b)}  value of b: {b}\")"
   ]
  },
  {
   "cell_type": "code",
   "execution_count": 5,
   "metadata": {
    "slideshow": {
     "slide_type": "slide"
    }
   },
   "outputs": [
    {
     "name": "stdout",
     "output_type": "stream",
     "text": [
      "id(a):140151495211456  value of a: [1, 9, 3]\n",
      "id(b):140151495211456  value of b: [1, 9, 3]\n"
     ]
    }
   ],
   "source": [
    "# varibles with a list (muttable)\n",
    "a = [1, 2, 3]\n",
    "b = a\n",
    "b[1] = 9\n",
    "\n",
    "print(f\"id(a):{id(a)}  value of a: {a}\")\n",
    "print(f\"id(b):{id(b)}  value of b: {b}\")"
   ]
  },
  {
   "cell_type": "code",
   "execution_count": 6,
   "metadata": {
    "slideshow": {
     "slide_type": "slide"
    }
   },
   "outputs": [
    {
     "name": "stdout",
     "output_type": "stream",
     "text": [
      "id(a):140151495224512  value of a: [1, 2, 3]\n",
      "id(b):140151495212928  value of b: [4, 5, 6]\n"
     ]
    }
   ],
   "source": [
    "# varibles with a list (muttable)\n",
    "a = [1, 2, 3]\n",
    "b = a\n",
    "b = [4, 5, 6]\n",
    "\n",
    "print(f\"id(a):{id(a)}  value of a: {a}\")\n",
    "print(f\"id(b):{id(b)}  value of b: {b}\")"
   ]
  },
  {
   "cell_type": "code",
   "execution_count": 7,
   "metadata": {
    "slideshow": {
     "slide_type": "slide"
    }
   },
   "outputs": [
    {
     "name": "stdout",
     "output_type": "stream",
     "text": [
      "id(a):140151495211328  value of a: {'one': 1, 'two': 9, 'three': 3}\n",
      "id(b):140151495211328  value of b: {'one': 1, 'two': 9, 'three': 3}\n"
     ]
    }
   ],
   "source": [
    "#varibles with a dictionary (muttable)\n",
    "\n",
    "a = {\"one\":1, \"two\":2, \"three\":3}\n",
    "b = a\n",
    "b[\"two\"] = 9\n",
    "\n",
    "print(f\"id(a):{id(a)}  value of a: {a}\")\n",
    "print(f\"id(b):{id(b)}  value of b: {b}\")"
   ]
  },
  {
   "cell_type": "code",
   "execution_count": 8,
   "metadata": {
    "slideshow": {
     "slide_type": "slide"
    }
   },
   "outputs": [
    {
     "name": "stdout",
     "output_type": "stream",
     "text": [
      "id(a):140151495211712  value of a: {'one': 1, 'two': 2, 'three': 3}\n",
      "id(b):140151495211648  value of b: {'one': 100, 'two': 200, 'four': 400}\n"
     ]
    }
   ],
   "source": [
    "#varibles with a dictionary (muttable)\n",
    "\n",
    "a = {\"one\":1, \"two\":2, \"three\":3}\n",
    "b = a\n",
    "b = {\"one\": 100, \"two\":200, \"four\":400}\n",
    "\n",
    "print(f\"id(a):{id(a)}  value of a: {a}\")\n",
    "print(f\"id(b):{id(b)}  value of b: {b}\")"
   ]
  },
  {
   "cell_type": "code",
   "execution_count": 9,
   "metadata": {
    "slideshow": {
     "slide_type": "skip"
    }
   },
   "outputs": [
    {
     "data": {
      "text/plain": [
       "'From these examples we can see that when we set `b` equal to `a` we are just creating \\n   a second label that points to the same object. With immuttable objects - int, float, \\n   string, and tuple - when we change the value that `b` refers to we make it point to \\n   a different object, but when we change elements inside of a muttable object, both `a` \\n   and `b` are still referring to the same object, and the change is reflected in both \\n   varibles.\\n'"
      ]
     },
     "execution_count": 9,
     "metadata": {},
     "output_type": "execute_result"
    }
   ],
   "source": [
    "\"\"\"From these examples we can see that when we set `b` equal to `a` we are just creating \n",
    "   a second label that points to the same object. With immuttable objects - int, float, \n",
    "   string, and tuple - when we change the value that `b` refers to we make it point to \n",
    "   a different object, but when we change elements inside of a muttable object, both `a` \n",
    "   and `b` are still referring to the same object, and the change is reflected in both \n",
    "   varibles.\n",
    "\"\"\""
   ]
  },
  {
   "cell_type": "markdown",
   "metadata": {},
   "source": [
    "# Project Conclusions\n",
    "\n",
    "> - In Python, there are variable types that are immutable (that is, objects that can’t be changed), such as int, float, str, and tuple. The only way to change the value of a variable referring to objects of these types is to make the variable point to a new object.\n",
    "> - There are also objects that are mutable, which means that values can be changed within the object, such as changing an element inside a list or dictionary.\n",
    "> - In Python, variables behave like labels—they are names that can be attached to any object, and more than one variable can be attached to the same object. If that object is mutable and its contents are changed, then that change is reflected for all variables referring to that object.\n"
   ]
  }
 ],
 "metadata": {
  "celltoolbar": "Slideshow",
  "kernelspec": {
   "display_name": "Python 3 (ipykernel)",
   "language": "python",
   "name": "python3"
  },
  "language_info": {
   "codemirror_mode": {
    "name": "ipython",
    "version": 3
   },
   "file_extension": ".py",
   "mimetype": "text/x-python",
   "name": "python",
   "nbconvert_exporter": "python",
   "pygments_lexer": "ipython3",
   "version": "3.10.6"
  },
  "livereveal": {
   "scroll": true,
   "start_slideshow_at": "selected",
   "transition": "none"
  },
  "toc": {
   "base_numbering": 1,
   "nav_menu": {},
   "number_sections": false,
   "sideBar": true,
   "skip_h1_title": false,
   "title_cell": "Table of Contents",
   "title_sidebar": "Contents",
   "toc_cell": false,
   "toc_position": {},
   "toc_section_display": true,
   "toc_window_display": false
  }
 },
 "nbformat": 4,
 "nbformat_minor": 2
}
